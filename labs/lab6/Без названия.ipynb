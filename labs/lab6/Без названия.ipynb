{
 "cells": [
  {
   "cell_type": "markdown",
   "id": "20d54f2e-c48c-4466-99fc-7e51181bb5e4",
   "metadata": {},
   "source": [
    "# Лабораторная работа 6\n",
    "\n",
    "Ознакомление с общей моделью на основе случайных полей и статической модели\n",
    "блокировки."
   ]
  },
  {
   "cell_type": "code",
   "execution_count": null,
   "id": "e831b4c1-41dc-4100-bec8-61cc5df5a593",
   "metadata": {},
   "outputs": [],
   "source": []
  },
  {
   "cell_type": "code",
   "execution_count": null,
   "id": "eda0d023-f524-4c76-81bf-ef74bc29860e",
   "metadata": {},
   "outputs": [],
   "source": []
  }
 ],
 "metadata": {
  "kernelspec": {
   "display_name": "Python 3 (ipykernel)",
   "language": "python",
   "name": "python3"
  },
  "language_info": {
   "codemirror_mode": {
    "name": "ipython",
    "version": 3
   },
   "file_extension": ".py",
   "mimetype": "text/x-python",
   "name": "python",
   "nbconvert_exporter": "python",
   "pygments_lexer": "ipython3",
   "version": "3.10.7"
  }
 },
 "nbformat": 4,
 "nbformat_minor": 5
}
